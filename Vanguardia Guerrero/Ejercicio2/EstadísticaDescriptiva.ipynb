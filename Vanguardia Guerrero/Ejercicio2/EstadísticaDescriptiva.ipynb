{
 "cells": [
  {
   "cell_type": "markdown",
   "metadata": {},
   "source": [
    "# Estadística Descriptiva\n",
    "## Tablas\n",
    "\n",
    "### Tablas de frecuencias\n",
    "### Tablas de contingencia\n",
    "Mediante las tablas de contingencia se clasifica un conjunto de observaciones en función de los valores de dos variables cualitativas que definen, respectivamente, las filas y columnas de\n",
    "la tabla. Una tabla MN es la que tiene M filas y N columnas, y las celdas pueden representar frecuencias, porcentajes de fila, porcentajes de columna o porcentajes del total de observaciones.\n",
    "\n",
    "## Estadísticos descriptivos\n",
    "### Medidas de tendencia central\n",
    "Media\n",
    "Mediana\n",
    "Moda\n",
    "Media geométrica\n",
    "### Medidas de dispersión\n",
    "Varianza -  cuantifica el grado de variabilidad de los datos en torno a la media\n",
    "Desviación típica - la raíz cuadrada positiva de la varianza -  Esta medida da idea de la dispersión de los datos con respecto a su media aritmética\n",
    "Coeficiente de variación - es una medida de variabilidad relativa que relaciona la desviación estándar de un conjunto de observaciones con su media\n",
    "\n",
    "## Medidas de \n",
    "Recorrido -  mide la amplitud de las observaciones y se calcula como la diferencia entre los valores máximo y mínimo\n",
    "Recorrido intercuartílico - se calcula como la diferencia entre el tercer y el primer cuartil corresponde con el recorrido de los datos que ocupan el 50% central de las\n",
    "observaciones.\n",
    "\n",
    "## Gráficos:\n",
    "### Gráfico de barras\n",
    "### Gráfico de sectores\n",
    "### Gráfico de líneas\n",
    "### Gráfico de dispersión\n",
    "### Histograma\n",
    "### Diagrama de cajas\n",
    "### Intervalos de confianza\n"
   ]
  },
  {
   "cell_type": "code",
   "execution_count": null,
   "metadata": {},
   "outputs": [],
   "source": []
  }
 ],
 "metadata": {
  "language_info": {
   "name": "python"
  }
 },
 "nbformat": 4,
 "nbformat_minor": 2
}
