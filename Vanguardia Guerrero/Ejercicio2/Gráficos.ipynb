{
 "cells": [
  {
   "cell_type": "markdown",
   "metadata": {},
   "source": [
    "# Organización y presentación de datos\n",
    "## Tablas\n",
    "Quizá la forma más intuitiva de presentar datos es mediante una tabla. A partir de esta, nosotros podremos generar elementos visuales para entender el conjunto de datos.\n",
    "\n",
    "Por ejemplo, si quisieramos visualizar el sexo de los estudiantes en un determinado curso, podríamos hacer un tabla con \"sexo\", \"código\", \"cantidad\". Estas columnas, de ahora en más serán nuestros features.\n",
    "\n",
    "## Gráficos Lineales\n",
    "Se utiliza por lo general para representar valores de dos variables cuantitativas utilizando coordenadas cartesianas. También es útil para graficar una variable categorica respecto a una variable cuantitativa continua como es el siguiente caso: Días vs Temperatura. Quizá estos sean los más intuitivos si alguna vez estudiamos conceptos de calculo y funciones.\n",
    "\n",
    "## Gráfico de barras\n",
    "Se utiliza por lo general cuando una de las variables es cualitativa. Por ejemplo, podríamos haber expresado las temperaturas para una determinada ubicación siguiendo un gráfico de barras:\n",
    "\n",
    "## Distribucion de frecuencias\n",
    "A la relación que hace corresponder a los valores de una variable, la cantidad de veces que estos aparecen se denomina distribución de frecuencias y, como vimos, se las representa mediante una tabla.\n",
    "\n",
    "Como veremos, el eje \"y\" corresponderá a las frecuencias y, el eje x, corresponderá a la variable\n",
    "\n",
    "Importante:\n",
    "\n",
    "Las columnas se colocan sobre una etiqueta que representa una variable categórica.\n",
    "La altura de la columna indica el tamaño del grupo definido por las categorías.\n",
    "\n",
    "# Histogramas\n",
    "Un histograma es la representación gráfica en forma de barras, que simboliza la distribución de un conjunto de datos. Sirven para obtener una \"primera vista\" general, o panorama, de la distribución de la población, o de la muestra, respecto a una característica, cuantitativa y continua.\n",
    "\n",
    "Las columnas se colocan sobre una etiqueta que representa una variable cuantitativa.\n",
    "\n",
    "### ¿Por qué utilizar gráficos?\n",
    "Facilita el análisis de datos\n",
    "Simplifica estadísticas e ideas complicadas.\n",
    "Mejora la comunicación efectiva de la información."
   ]
  },
  {
   "cell_type": "code",
   "execution_count": null,
   "metadata": {},
   "outputs": [],
   "source": [
    "import pandas as pd\n",
    "from sklearn.datasets import fetch_openml\n",
    "titanic = fetch_openml('titanic', version=1, as_frame=True)\n",
    "titanic_frame = pd.DataFrame(titanic.data)\n",
    "titanic_frame\n",
    "titanic_frame.head()"
   ]
  },
  {
   "cell_type": "code",
   "execution_count": null,
   "metadata": {},
   "outputs": [],
   "source": [
    "import matplotlib.pyplot as plt\n",
    "\n",
    "fig, ax = plt.subplots()\n",
    "dias = [\"L\",\"M\",\"M\",\"J\",\"V\",\"S\",\"D\"]\n",
    "temperaturas = {'Ciudad1': [28.5,30.5,31,30,28,27.5,30.5],'Ciudad2': [35,36,38,49,47,42,31]}\n",
    "ax.plot(dias,temperaturas['Ciudad1'],color='tab:purple', label='Pachuca', marker=\"^\")\n",
    "ax.plot(dias,temperaturas['Ciudad2'],color='tab:green', marker='*',label='Querétaro')\n",
    "temperaturas\n",
    "\n",
    "fig, ax = plt.subplots(3,2, figsize=(10,10),sharex=True, sharey=True)\n",
    "ax[1,1].plot(dias,temperaturas['Ciudad1'],color='tab:purple', label='Pachuca', marker=\"^\")"
   ]
  },
  {
   "cell_type": "code",
   "execution_count": null,
   "metadata": {},
   "outputs": [],
   "source": [
    "dias = [\"L\",\"M\",\"M\",\"J\",\"V\",\"S\",\"D\"]\n",
    "temperaturas = {'Ciudad1': [28.5,30.5,31,30,28,27.5,30.5],'Ciudad2': [35,36,38,49,47,42,31]}\n",
    "fig_2, ax_2 = plt.subplots()\n",
    "ax_2.bar(dias,temperaturas['Ciudad2'],label=\"Queretaro\",color='purple')\n",
    "ax_2.bar(dias,temperaturas['Ciudad1'],label=\"Pachuca\", color='green')\n",
    "plt.legend(loc='best')"
   ]
  },
  {
   "cell_type": "code",
   "execution_count": null,
   "metadata": {},
   "outputs": [],
   "source": [
    "data_0 = {'sexo': ['Masculino','Femenino','Otro'], 'codigo': [0,1,2], 'frecuencia': [5,6,2]}\n",
    "pd_0 = pd.DataFrame(data=data_0)\n",
    "fig_3, ax_3 = plt.subplots()\n",
    "sexos = data_0['sexo']\n",
    "frecuencias = data_0['frecuencia']\n",
    "ax_3.bar(sexos,frecuencias, color='purple') \n",
    "plt.show()"
   ]
  }
 ],
 "metadata": {
  "kernelspec": {
   "display_name": "Python 3",
   "language": "python",
   "name": "python3"
  },
  "language_info": {
   "codemirror_mode": {
    "name": "ipython",
    "version": 3
   },
   "file_extension": ".py",
   "mimetype": "text/x-python",
   "name": "python",
   "nbconvert_exporter": "python",
   "pygments_lexer": "ipython3",
   "version": "3.12.3"
  }
 },
 "nbformat": 4,
 "nbformat_minor": 2
}
