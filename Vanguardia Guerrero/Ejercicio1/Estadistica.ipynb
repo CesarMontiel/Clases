{
 "cells": [
  {
   "cell_type": "markdown",
   "metadata": {},
   "source": [
    "## Introducción a la estadística\n",
    "\n",
    "# Ejercicio 1\n",
    "- Introducción a la estadística\n",
    "\n",
    "\n",
    "### Estadística\n",
    "Es una rama de las matemáticas que nos permite entender a los datos y sus características\n",
    "Variablidad, organización, análisis, interpretación y presentación\n",
    "\n",
    "## Descriptiva\n",
    "Descripción y visualización de la información.\n",
    "Resumen de datos originados a partir de un tema de estudio.\n",
    "Organizar y describir las características del conjunto de datos.\n",
    "Para interpretarlo a futuro.\n",
    "\n",
    "## Inferencial\n",
    "Se dedica a la generación de modelos y predicciones asociados a ciertos fenómenos.\n",
    "\n",
    "\n",
    "## Análisis exploratorio de datos\n",
    "Se basa en la Estadística Descriptiva - > Análisis Descriptivo \n",
    "Extraer sus características principales.\n",
    "\n",
    "# Tipos de Datos\n",
    "- Cualitativo - Categóricos\n",
    "- Cuantitativo - Representan una cantidad\n",
    "\n",
    "# Tipos de Variables\n",
    "\n",
    "- Cuantitativa nominal: Los valores de la variable clasifican a la población en categorías excluyentes.\n",
    "- Cuantitativa ordinal: Valores que toma la variable que pueden ser ordenados.\n",
    "- Cuantitativa discreta: Son datos numéricos que pueden tomar solo algunos valores.\n",
    "- Cuantitativa continua: Pueden tomar todos los valores de un intervalo.\n",
    "\n",
    "# Organización y presentación de datos\n",
    "Tablas: Excel, CSV, SQL"
   ]
  },
  {
   "cell_type": "code",
   "execution_count": null,
   "metadata": {},
   "outputs": [
    {
     "ename": "",
     "evalue": "",
     "output_type": "error",
     "traceback": [
      "\u001b[1;31mRunning cells with 'Python 3.12.3' requires the ipykernel package.\n",
      "\u001b[1;31mRun the following command to install 'ipykernel' into the Python environment. \n",
      "\u001b[1;31mCommand: 'c:/Python312/python.exe -m pip install ipykernel -U --user --force-reinstall'"
     ]
    }
   ],
   "source": [
    "import pandas as pd \n",
    "data = {'name': ['Jason', 'Molly', 'Tina', 'Jake', 'Amy'], 'edad': [42, 52, 36, 24, 73], 'preTestScore': [4, 24, 31, 2, 3], 'postTestScore': [25, 94, 57, 62, 70]}"
   ]
  }
 ],
 "metadata": {
  "kernelspec": {
   "display_name": "Python 3",
   "language": "python",
   "name": "python3"
  },
  "language_info": {
   "name": "python",
   "version": "3.12.3"
  }
 },
 "nbformat": 4,
 "nbformat_minor": 2
}
