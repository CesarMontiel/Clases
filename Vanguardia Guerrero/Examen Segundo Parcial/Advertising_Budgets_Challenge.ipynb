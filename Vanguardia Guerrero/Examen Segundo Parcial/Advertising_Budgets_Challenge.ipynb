{
 "cells": [
  {
   "cell_type": "markdown",
   "metadata": {},
   "source": [
    "# Advertising Budgets-Sales Challenge\n",
    "\n",
    "In this challenge, you'll explore a real-world dataset containing Sales (in thousands of units) for a particular product as a function of advertising budgets (in thousands of dollars) for TV, radio, and newspaper media.\n",
    "\n",
    "The adverstising dataset captures sales revenue generated with respect to advertisement spends across multiple channels like radio, tv and newspaper.\n",
    "\n",
    "- **TV**: Spend on TV Advertisements\n",
    "- **Radio**: Spend on radio Advertisements\n",
    "- **Newspaper**: Spend on newspaper Advertisements\n",
    "- **Sales**: Sales revenue generated\n"
   ]
  },
  {
   "cell_type": "code",
   "execution_count": null,
   "metadata": {},
   "outputs": [],
   "source": [
    "df_advertisement = pd.read_csv('advertising.csv')"
   ]
  },
  {
   "cell_type": "markdown",
   "metadata": {},
   "source": [
    "The challenge is to explore the dataset to analyze and identify which media contribute to sales and to find a function that given input budgets for TV, radio and newspaper predicts the output sales.\n",
    "\n",
    "1. Start by cleaning the data.\n",
    "   R - Identify any null or missing data, and impute appropriate replacement values.\n",
    "   R - Describe and identify statistical parameters for each column.\n",
    "\n",
    "2. Determine the relationship between the advertising budgets and sales, and to build a predictive model that can estimate sales based on the given budgets for TV, radio, and newspaper.\n",
    "   **Exploratory Data Analysis (EDA)**: \n",
    "   * Describe and visualize the data to understand the distribution and relationships between variables\n",
    "   * Calculate and plot heatmap correlation and pairwise correlations\n",
    "   **Feature Engineering**: \n",
    "   * Create any additional features that might help in the analysis. Will be explained later.\n",
    "   * Splitting data into training and test datasets. \n",
    "   * Train_Set_Size need to be 90% and Test_Set_Size 10%.\n",
    "3. Apply any machine learning algorithm on the dataset   \n",
    "   * Load the algorithm\n",
    "   * Instantiate and Fit the model to the training dataset\n",
    "   * Prediction on the test set\n",
    "   * Evaluate with 3 different metrics. \n",
    "4. Create a new feature called Area, and randomly assign observations to be rural, suburban, or urban, this variable need to have gaussian distribution.\n",
    "   * Plot the new data distribution according to the new feature.\n",
    "   * Transform feature to numerical. Create additional dummy binary variables that describe the feature:\n",
    "      - rural is coded as Area_suburban = 0 and Area_urban = 0\n",
    "      - suburban is coded as Area_suburban = 1 and Area_urban = 0\n",
    "      - urban is coded as Area_suburban = 0 and Area_urban = 1\n",
    "   * Apply Number 3 step again with this dataset.\n",
    "4. Answer next questions:\n",
    "- Is there a relationship between sales and spend various advertising channels?\n",
    "- Which is the channel with more relationship with sales?\n",
    "- Which is the model that describe both problems?\n",
    "- Which is the best channel to increase sales?\n",
    "- Which is the worst channel to increase sales?\n",
    "\n"
   ]
  }
 ],
 "metadata": {
  "language_info": {
   "name": "python"
  }
 },
 "nbformat": 4,
 "nbformat_minor": 2
}
